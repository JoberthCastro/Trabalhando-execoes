{
 "cells": [
  {
   "cell_type": "markdown",
   "id": "d54b9eba-d213-4629-a2f7-5f8f14a69f7b",
   "metadata": {},
   "source": [
    "## 1. Faça um programa que solicite à pessoa usuária digitar dois números float e calcular a divisão entre esses números. O código deve conter um tratamento de erro, indicando o tipo de erro que foi gerado caso a divisão não seja possível de realizar.\n",
    "\n",
    "Teste o programa com o segundo valor numérico do input igual a 0. Também teste utilizando caracteres textuais no input para checar os tipos de erro que ocorrem."
   ]
  },
  {
   "cell_type": "code",
   "execution_count": 18,
   "id": "70fa3310-7089-4ceb-83c1-d8e13de4e0d7",
   "metadata": {},
   "outputs": [],
   "source": [
    "def divisao(n1,n2 = 0) -> float:\n",
    "    try:\n",
    "        div = n1/n2\n",
    "    except Exception as e:\n",
    "        print(f'Erro: {e}')\n",
    "    else:\n",
    "        return(div)"
   ]
  },
  {
   "cell_type": "code",
   "execution_count": 20,
   "id": "96116cd4-6002-4814-81d6-38660712b37b",
   "metadata": {},
   "outputs": [
    {
     "name": "stdout",
     "output_type": "stream",
     "text": [
      "1.5\n",
      "Erro: division by zero\n",
      "None\n",
      "Erro: unsupported operand type(s) for /: 'int' and 'str'\n",
      "None\n"
     ]
    }
   ],
   "source": [
    "print(divisao(3,2))\n",
    "print(divisao(3,0))\n",
    "print(divisao(3,\"a\"))"
   ]
  },
  {
   "cell_type": "markdown",
   "id": "5541e59f-0a0c-4c26-a462-05ca74449229",
   "metadata": {},
   "source": [
    "## 2. Faça um programa que solicite à pessoa usuária digitar um texto que será uma chave a ser pesquisada no seguinte dicionário: idades = {'Júlia': 16, 'Carol': 23, 'Alberto': 19, 'Roberta': 17}, armazenando o resultado do valor em uma variável. O código deve conter um tratamento de erro KeyError, imprimindo a informação 'Nome não encontrado', caso ocorra o erro; e imprimir o valor caso não ocorra nenhum."
   ]
  },
  {
   "cell_type": "code",
   "execution_count": 26,
   "id": "57852dd5-dc11-47b3-a9c7-90f52f9654a3",
   "metadata": {},
   "outputs": [
    {
     "name": "stdin",
     "output_type": "stream",
     "text": [
      "Digite um nome júlia\n"
     ]
    },
    {
     "name": "stdout",
     "output_type": "stream",
     "text": [
      "Nome não encontrado\n"
     ]
    }
   ],
   "source": [
    "idades = {'Júlia': 16, 'Carol': 23, 'Alberto': 19, 'Roberta': 17}\n",
    "\n",
    "try:\n",
    "    nome = input(\"Digite um nome\")\n",
    "    resultado = idades[nome]\n",
    "except KeyError:\n",
    "    print(\"Nome não encontrado\")\n",
    "else:\n",
    "    print(resultado)"
   ]
  },
  {
   "cell_type": "markdown",
   "id": "898b0fc5-107e-4117-8b59-d7582c4064ff",
   "metadata": {},
   "source": [
    "## 3. Crie uma função que recebe uma lista como parâmetro e converta todos os valores da lista para float. A função deve conter um tratamento de erro indicando o tipo de erro gerado e retornar a lista caso não tenha ocorrido nenhum erro. Por fim, deve ter a cláusula finally para imprimir o texto: 'Fim da execução da função'."
   ]
  },
  {
   "cell_type": "code",
   "execution_count": 49,
   "id": "5cb85520-b196-434d-ac7c-a5e9b8078cba",
   "metadata": {},
   "outputs": [],
   "source": [
    "lista = [\"1\",\"2\",\"q\"]\n",
    "\n",
    "def list_n(list): \n",
    "    try:\n",
    "        list_f = [float(i)for i in lista]\n",
    "    except ValueError:\n",
    "        print(\"Erro, use apenas números!\")\n",
    "    else:\n",
    "        return list_f\n",
    "    finally:\n",
    "        print(\"Fim da função!\")"
   ]
  },
  {
   "cell_type": "code",
   "execution_count": 50,
   "id": "1f1f15ae-ebbb-4e8b-9132-734f9f245036",
   "metadata": {},
   "outputs": [
    {
     "name": "stdout",
     "output_type": "stream",
     "text": [
      "Erro, use apenas números!\n",
      "Fim da função!\n"
     ]
    }
   ],
   "source": [
    "list_n(lista)"
   ]
  },
  {
   "cell_type": "markdown",
   "id": "a2bddb6d-e718-476f-9fe7-ee4c0952ea09",
   "metadata": {},
   "source": [
    "## 4. Crie uma função que recebe duas listas como parâmetros e agrupe os elementos um a um das listas, formando uma lista de tuplas de 3 elementos, no qual o primeiro e segundo elemento da tupla são os valores na posição i das listas e o terceiro elemento é a soma dos valores na posição i das listas.\n",
    "\n",
    "### A função deve conter um tratamento de erro indicando o tipo de erro gerado e retornar como resultado a lista de tuplas. Caso as listas enviadas como parâmetro tenham tamanhos diferentes, a função deve retornar um IndexError com a frase: 'A quantidade de elementos em cada lista é diferente.' Dados para testar a função"
   ]
  },
  {
   "cell_type": "code",
   "execution_count": 26,
   "id": "3bbe5d68-bb51-49e7-9f98-272ac948644a",
   "metadata": {},
   "outputs": [
    {
     "name": "stdout",
     "output_type": "stream",
     "text": [
      "Erro de tipo: can only concatenate str (not \"int\") to str\n"
     ]
    }
   ],
   "source": [
    "def agrupar_listas(lista1, lista2):\n",
    "    try:\n",
    "        if len(lista1) != len(lista2):\n",
    "            raise IndexError('A quantidade de elementos em cada lista é diferente.')\n",
    "        \n",
    "        # Cria a lista de tuplas\n",
    "        resultado = [(lista1[i], lista2[i], lista1[i] + lista2[i]) for i in range(len(lista1))]\n",
    "        return resultado\n",
    "    \n",
    "    except TypeError as e:\n",
    "        return f\"Erro de tipo: {e}\"\n",
    "    except IndexError as e:\n",
    "        return f\"Erro de índice: {e}\"\n",
    "    except Exception as e:\n",
    "        return f\"Erro inesperado: {e}\""
   ]
  },
  {
   "cell_type": "code",
   "execution_count": 28,
   "id": "e3167adf-80e9-4563-9337-fb18fe14ed1d",
   "metadata": {},
   "outputs": [
    {
     "data": {
      "text/plain": [
       "[(4, -4, 0), (6, 6, 12), (7, 8, 15), (9, 7, 16), (10, 9, 19)]"
      ]
     },
     "execution_count": 28,
     "metadata": {},
     "output_type": "execute_result"
    }
   ],
   "source": [
    "lista1 = [4,6,7,9,10]\n",
    "lista2 = [-4,6,8,7,9]\n",
    "\n",
    "agrupar_listas(lista1,lista2)"
   ]
  },
  {
   "cell_type": "code",
   "execution_count": 29,
   "id": "2658d7dd-71f7-435c-9757-68116c095050",
   "metadata": {},
   "outputs": [
    {
     "data": {
      "text/plain": [
       "'Erro de índice: A quantidade de elementos em cada lista é diferente.'"
      ]
     },
     "execution_count": 29,
     "metadata": {},
     "output_type": "execute_result"
    }
   ],
   "source": [
    "lista1 = [4,6,7,9,10,4]\n",
    "lista2 = [-4,6,8,7,9]\n",
    "\n",
    "agrupar_listas(lista1,lista2)"
   ]
  },
  {
   "cell_type": "code",
   "execution_count": 30,
   "id": "017c36db-12a4-4d88-ad76-7182803c6f38",
   "metadata": {},
   "outputs": [
    {
     "data": {
      "text/plain": [
       "\"Erro de tipo: unsupported operand type(s) for +: 'int' and 'str'\""
      ]
     },
     "execution_count": 30,
     "metadata": {},
     "output_type": "execute_result"
    }
   ],
   "source": [
    "lista1 = [4,6,7,9,'A']\n",
    "lista2 = [-4,'E',8,7,9]\n",
    "\n",
    "agrupar_listas(lista1,lista2)"
   ]
  },
  {
   "cell_type": "markdown",
   "id": "93b82dcf-dc50-4e0b-9d0d-7be2daab906f",
   "metadata": {},
   "source": [
    "## 5. Como desafio, você recebeu a tarefa de desenvolver um código que contabiliza as pontuações de estudantes de uma instituição de ensino de acordo com suas respostas num teste. Este código deve ser testado para um exemplo de 3 estudantes com uma lista de listas em que cada lista possui as respostas de 5 questões objetivas de cada estudante. Cada questão vale um ponto e as alternativas possíveis são A, B, C ou D.\n",
    "\r\n",
    "Caso alguma alternativa em um dos testes não esteja entre as alternativas possíveis, você deve lançar um ValueError com a mensagem \"A alternativa [alternativa] não é uma opção de alternativa válida\". O cálculo das 3 notas só será realizado mediante as entradas com as alternativas A, B, C ou D em todos os testes. Se não for lançada a exceção, será exibida uma lista com as notas em cada teste."
   ]
  },
  {
   "cell_type": "code",
   "execution_count": 121,
   "id": "17bea1aa-d7ff-413f-b453-703dfa32b528",
   "metadata": {},
   "outputs": [],
   "source": [
    "def calcular_pontuacao(gabarito,testes):\n",
    "    alternativas = (\"A\",\"B\",\"C\",\"D\")\n",
    "    notas = []\n",
    "    #Identificando valores fora do padrão\n",
    "    for teste in testes: #-> Separando Lista de listas em Listas individuais\n",
    "        for resposta in teste: #-> Pegando cada item da lista\n",
    "            if resposta not in alternativas: #-> Verificando se a resposta bate com a auternativa valida\n",
    "                raise ValueError(f\"A alternativa ({alternativa}) não é uma opção de alternativa válida\")\n",
    "\n",
    "        # Calculando a pontuação\n",
    "        pontuacao = sum(1 for i in range(len(gabarito)) if gabarito[i] == teste[i])\n",
    "        notas.append(pontuacao)\n",
    "\n",
    "    return notas"
   ]
  },
  {
   "cell_type": "code",
   "execution_count": 118,
   "id": "1f64af72-3acd-4240-9ac2-d45b650219c8",
   "metadata": {},
   "outputs": [],
   "source": [
    "gabarito = ['D', 'A', 'B', 'C', 'A']\n",
    "testes_sem_ex = [['D', 'A', 'B', 'C', 'A'], ['C', 'A', 'A', 'C', 'A'], ['D', 'B', 'A', 'C', 'A']]\n",
    "testes_com_ex = [['D', 'A', 'B', 'C', 'A'], ['C', 'A', 'A', 'E', 'A'], ['D', 'B', 'A', 'C', 'A']]"
   ]
  },
  {
   "cell_type": "code",
   "execution_count": 128,
   "id": "43a69d82-8a76-4be9-8420-f56352acb76b",
   "metadata": {},
   "outputs": [
    {
     "name": "stdout",
     "output_type": "stream",
     "text": [
      "Notas dos testes sem exceção: [5, 3, 3]\n",
      "A alternativa E não é uma opção de alternativa válida\n"
     ]
    }
   ],
   "source": [
    "try:\n",
    "    notas_sem_ex = calcular_pontuacao(gabarito, testes_sem_ex)\n",
    "    print(\"Notas dos testes sem exceção:\", notas_sem_ex)\n",
    "except ValueError as e:\n",
    "    print(e)\n",
    "\n",
    "\n",
    "try:\n",
    "    notas_com_ex = calcular_pontuacao(gabarito, testes_com_ex)\n",
    "    print(\"Notas dos testes com exceção:\", notas_com_ex)\n",
    "except ValueError as e:\n",
    "    print(e)"
   ]
  },
  {
   "cell_type": "markdown",
   "id": "25836156-0302-44c1-b267-fc997b8607c2",
   "metadata": {},
   "source": [
    "## 7. Você foi contratado(a) como uma pessoa cientista de dados para auxiliar um laboratório que faz experimentos sobre o comportamento de uma cultura de fungos. O laboratório precisa avaliar constantemente a razão (divisão) entre os dados de pressão e temperatura do ambiente controlado recolhidos durante a experimentação para definir a melhor condição para os testes.\n",
    "\n",
    "Para cumprir com a demanda, você precisa criar uma função divide_colunas que recebe os dados das colunas de pressão e temperatura (que vem no formato de listas) e gerar uma nova coluna com o resultado da divisão. Os parâmetros da função são as duas listas e você deve tratar dentro dela ao menos 2 tipos de exceções:\n",
    "\n",
    "Verificar se as listas têm o mesmo tamanho (ValueError)\n",
    "Verificar se existe alguma divisão por zero (ZeroDivisionError)\n",
    "Para testar a função, vamos realizar a divisão entre duas listas de dados coletados no experimento, com os valores de pressão e temperatura do ambiente controlado.\n",
    "\n",
    "Como teste, use os seguintes dados:"
   ]
  },
  {
   "cell_type": "code",
   "execution_count": 132,
   "id": "a2660fb9-9352-4354-85ff-9f4fb8ddbe08",
   "metadata": {},
   "outputs": [
    {
     "name": "stdout",
     "output_type": "stream",
     "text": [
      "Texto já tratado!\n"
     ]
    }
   ],
   "source": [
    "# criando a função que recebe a lista de palavras\n",
    "def avalia_texto(texto: list):\n",
    "    for palavra in texto:\n",
    "        if ',' in palavra or '.' in palavra or '!' in palavra or '?' in palavra:\n",
    "            raise ValueError(f'O texto apresenta pontuações na palavra \"{palavra}\".')\n",
    "    return \"Texto já tratado!\" # retornando a verificação se não lançada a exceção \n"
   ]
  },
  {
   "cell_type": "code",
   "execution_count": 133,
   "id": "c1e9d065-463d-4fa4-bbc0-4ca4fafa5447",
   "metadata": {},
   "outputs": [
    {
     "name": "stdout",
     "output_type": "stream",
     "text": [
      "Texto já tratado!\n"
     ]
    }
   ],
   "source": [
    "lista_tratada = ['Python', 'é', 'uma', 'linguagem', 'de', 'programação', 'poderosa', 'versátil',\n",
    "                  'e', 'fácil', 'de', 'aprender', 'utilizada', 'em', 'diversos', 'campos', 'desde',\n",
    "                  'análise', 'de', 'dados', 'até', 'inteligência', 'artificial']\n",
    "\n",
    "try:\n",
    "  avaliacao = avalia_texto(lista_tratada)\n",
    "except Exception as e:\n",
    "  print(e)\n",
    "else:\n",
    "  print(avaliacao)\n"
   ]
  },
  {
   "cell_type": "code",
   "execution_count": 131,
   "id": "9bd7c11f-ec37-4d3f-b19a-90aeb5f26e68",
   "metadata": {},
   "outputs": [
    {
     "name": "stdout",
     "output_type": "stream",
     "text": [
      "O texto apresenta pontuações na palavra \"poderosa,\".\n"
     ]
    }
   ],
   "source": [
    "# Testando no exemplo que lança exceção\n",
    "lista_nao_tratada = ['Python', 'é', 'uma', 'linguagem', 'de', 'programação', 'poderosa,', 'versátil',\n",
    "                  'e', 'fácil,', 'de', 'aprender', 'utilizada', 'em', 'diversos', 'campos,', 'desde',\n",
    "                  'análise', 'de', 'dados', 'até', 'inteligência', 'artificial!']\n",
    "\n",
    "try:\n",
    "  avaliacao = avalia_texto(lista_nao_tratada)\n",
    "except Exception as e:\n",
    "  print(e)\n",
    "else:\n",
    "  print(avaliacao)"
   ]
  }
 ],
 "metadata": {
  "kernelspec": {
   "display_name": "Python 3 (ipykernel)",
   "language": "python",
   "name": "python3"
  },
  "language_info": {
   "codemirror_mode": {
    "name": "ipython",
    "version": 3
   },
   "file_extension": ".py",
   "mimetype": "text/x-python",
   "name": "python",
   "nbconvert_exporter": "python",
   "pygments_lexer": "ipython3",
   "version": "3.11.7"
  }
 },
 "nbformat": 4,
 "nbformat_minor": 5
}
